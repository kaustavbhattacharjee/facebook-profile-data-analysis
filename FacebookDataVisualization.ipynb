{
  "nbformat": 4,
  "nbformat_minor": 0,
  "metadata": {
    "colab": {
      "name": "FacebookDataVisualization.ipynb",
      "version": "0.3.2",
      "views": {},
      "default_view": {},
      "provenance": []
    }
  },
  "cells": [
    {
      "metadata": {
        "id": "DemScTyUlEFg",
        "colab_type": "code",
        "colab": {
          "autoexec": {
            "startup": false,
            "wait_interval": 0
          },
          "output_extras": [
            {
              "item_id": 4
            }
          ],
          "base_uri": "https://localhost:8080/",
          "height": 109
        },
        "outputId": "4782da5d-d078-4fd4-838e-28b2c7c14460",
        "executionInfo": {
          "status": "ok",
          "timestamp": 1522156303659,
          "user_tz": -330,
          "elapsed": 19500,
          "user": {
            "displayName": "SHAMIK KUNDU",
            "photoUrl": "https://lh3.googleusercontent.com/a/default-user=s128",
            "userId": "103652972737434762725"
          }
        }
      },
      "cell_type": "code",
      "source": [
        "!apt-get install -y -qq software-properties-common python-software-properties module-init-tools\n",
        "!add-apt-repository -y ppa:alessandro-strada/ppa 2>&1 > /dev/null\n",
        "!apt-get update -qq 2>&1 > /dev/null\n",
        "!apt-get -y install -qq google-drive-ocamlfuse fuse\n",
        "from google.colab import auth\n",
        "auth.authenticate_user()\n",
        "from oauth2client.client import GoogleCredentials\n",
        "creds = GoogleCredentials.get_application_default()\n",
        "import getpass\n",
        "!google-drive-ocamlfuse -headless -id={creds.client_id} -secret={creds.client_secret} < /dev/null 2>&1 | grep URL\n",
        "vcode = getpass.getpass()\n",
        "!echo {vcode} | google-drive-ocamlfuse -headless -id={creds.client_id} -secret={creds.client_secret}"
      ],
      "execution_count": 1,
      "outputs": [
        {
          "output_type": "stream",
          "text": [
            "Please, open the following URL in a web browser: https://accounts.google.com/o/oauth2/auth?client_id=32555940559.apps.googleusercontent.com&redirect_uri=urn%3Aietf%3Awg%3Aoauth%3A2.0%3Aoob&scope=https%3A%2F%2Fwww.googleapis.com%2Fauth%2Fdrive&response_type=code&access_type=offline&approval_prompt=force\r\n",
            "··········\n",
            "Please, open the following URL in a web browser: https://accounts.google.com/o/oauth2/auth?client_id=32555940559.apps.googleusercontent.com&redirect_uri=urn%3Aietf%3Awg%3Aoauth%3A2.0%3Aoob&scope=https%3A%2F%2Fwww.googleapis.com%2Fauth%2Fdrive&response_type=code&access_type=offline&approval_prompt=force\n",
            "Please enter the verification code: Access token retrieved correctly.\n"
          ],
          "name": "stdout"
        }
      ]
    },
    {
      "metadata": {
        "id": "Q4KQimvNlJYS",
        "colab_type": "code",
        "colab": {
          "autoexec": {
            "startup": false,
            "wait_interval": 0
          }
        }
      },
      "cell_type": "code",
      "source": [
        "!mkdir -p drive\n",
        "!google-drive-ocamlfuse drive -o nonempty"
      ],
      "execution_count": 0,
      "outputs": []
    },
    {
      "metadata": {
        "id": "oZhfrwzN3hBa",
        "colab_type": "text"
      },
      "cell_type": "markdown",
      "source": [
        "# **Features:**\n",
        "\n",
        "\n",
        "*   Get overall stat of message count wrt contacts: **getOverallMessageStat()**\n",
        "*   Get a bar plot of 'contacts vs #messages: **getMsgCountGraph()**\n",
        "*   Get your message vocabulary stats: **getMyVocabularyStat()**\n",
        "*   Get a bar plot of your message vocabulary: **getWordCountGraph()** \n",
        "*   Get wordcloud made out of your most used words: **show_wordcloud()**\n",
        "\n",
        "\n"
      ]
    },
    {
      "metadata": {
        "id": "tacyUSsZlkZt",
        "colab_type": "code",
        "colab": {
          "autoexec": {
            "startup": false,
            "wait_interval": 0
          }
        }
      },
      "cell_type": "code",
      "source": [
        "from bs4 import BeautifulSoup\n",
        "import os\n",
        "import re\n",
        "import matplotlib.pyplot as plt\n",
        "import numpy as np\n",
        "import seaborn as sns"
      ],
      "execution_count": 0,
      "outputs": []
    },
    {
      "metadata": {
        "id": "xs94vHaDX_uJ",
        "colab_type": "code",
        "colab": {
          "autoexec": {
            "startup": false,
            "wait_interval": 0
          },
          "output_extras": [
            {
              "item_id": 1
            },
            {
              "item_id": 2
            }
          ],
          "base_uri": "https://localhost:8080/",
          "height": 71
        },
        "outputId": "ea98a8fa-6e6d-4adb-b9ff-480facab5437",
        "executionInfo": {
          "status": "ok",
          "timestamp": 1522169574993,
          "user_tz": -330,
          "elapsed": 1120,
          "user": {
            "displayName": "SHAMIK KUNDU",
            "photoUrl": "https://lh3.googleusercontent.com/a/default-user=s128",
            "userId": "103652972737434762725"
          }
        }
      },
      "cell_type": "code",
      "source": [
        "import nltk\n",
        "nltk.download(\"punkt\")"
      ],
      "execution_count": 84,
      "outputs": [
        {
          "output_type": "stream",
          "text": [
            "[nltk_data] Downloading package punkt to /content/nltk_data...\n",
            "[nltk_data]   Package punkt is already up-to-date!\n"
          ],
          "name": "stdout"
        },
        {
          "output_type": "execute_result",
          "data": {
            "text/plain": [
              "True"
            ]
          },
          "metadata": {
            "tags": []
          },
          "execution_count": 84
        }
      ]
    },
    {
      "metadata": {
        "id": "Bq3AaDe_oNW6",
        "colab_type": "code",
        "colab": {
          "autoexec": {
            "startup": false,
            "wait_interval": 0
          },
          "output_extras": [
            {
              "item_id": 8
            }
          ],
          "base_uri": "https://localhost:8080/",
          "height": 397
        },
        "outputId": "29667a19-f4ca-4c1b-b019-1877a528ec4b",
        "executionInfo": {
          "status": "ok",
          "timestamp": 1522173813918,
          "user_tz": -330,
          "elapsed": 7793,
          "user": {
            "displayName": "SHAMIK KUNDU",
            "photoUrl": "https://lh3.googleusercontent.com/a/default-user=s128",
            "userId": "103652972737434762725"
          }
        }
      },
      "cell_type": "code",
      "source": [
        "!pip install wordcloud"
      ],
      "execution_count": 127,
      "outputs": [
        {
          "output_type": "stream",
          "text": [
            "Collecting wordcloud\n",
            "  Downloading wordcloud-1.4.1.tar.gz (172kB)\n",
            "\u001b[K    100% |████████████████████████████████| 174kB 2.7MB/s \n",
            "\u001b[?25hRequirement already satisfied: matplotlib in /usr/local/lib/python2.7/dist-packages (from wordcloud)\n",
            "Requirement already satisfied: numpy>=1.6.1 in /usr/local/lib/python2.7/dist-packages (from wordcloud)\n",
            "Requirement already satisfied: pillow in /usr/local/lib/python2.7/dist-packages (from wordcloud)\n",
            "Requirement already satisfied: cycler>=0.10 in /usr/local/lib/python2.7/dist-packages (from matplotlib->wordcloud)\n",
            "Requirement already satisfied: backports.functools-lru-cache in /usr/local/lib/python2.7/dist-packages (from matplotlib->wordcloud)\n",
            "Requirement already satisfied: subprocess32 in /usr/local/lib/python2.7/dist-packages (from matplotlib->wordcloud)\n",
            "Requirement already satisfied: pytz in /usr/local/lib/python2.7/dist-packages (from matplotlib->wordcloud)\n",
            "Requirement already satisfied: six>=1.10 in /usr/local/lib/python2.7/dist-packages (from matplotlib->wordcloud)\n",
            "Requirement already satisfied: python-dateutil>=2.1 in /usr/local/lib/python2.7/dist-packages (from matplotlib->wordcloud)\n",
            "Requirement already satisfied: pyparsing!=2.0.4,!=2.1.2,!=2.1.6,>=2.0.1 in /usr/local/lib/python2.7/dist-packages (from matplotlib->wordcloud)\n",
            "Requirement already satisfied: olefile in /usr/local/lib/python2.7/dist-packages (from pillow->wordcloud)\n",
            "Building wheels for collected packages: wordcloud\n",
            "  Running setup.py bdist_wheel for wordcloud ... \u001b[?25l-\b \b\\\b \b|\b \bdone\n",
            "\u001b[?25h  Stored in directory: /content/.cache/pip/wheels/23/f9/5b/3fd378852bbeb8833fccc377757de44d7ea393863a368e4ffa\n",
            "Successfully built wordcloud\n",
            "Installing collected packages: wordcloud\n",
            "Successfully installed wordcloud-1.4.1\n"
          ],
          "name": "stdout"
        }
      ]
    },
    {
      "metadata": {
        "id": "qErGaOFBtV-3",
        "colab_type": "code",
        "colab": {
          "autoexec": {
            "startup": false,
            "wait_interval": 0
          }
        }
      },
      "cell_type": "code",
      "source": [
        "from wordcloud import WordCloud, STOPWORDS"
      ],
      "execution_count": 0,
      "outputs": []
    },
    {
      "metadata": {
        "id": "7DVaMdy7pNdN",
        "colab_type": "text"
      },
      "cell_type": "markdown",
      "source": [
        "**Get total number of html files to parse:**"
      ]
    },
    {
      "metadata": {
        "id": "N2XMi7XhotS4",
        "colab_type": "code",
        "colab": {
          "autoexec": {
            "startup": false,
            "wait_interval": 0
          }
        }
      },
      "cell_type": "code",
      "source": [
        "def getFileCount(dirname):\n",
        "  path, dirs, files = os.walk(dirname).next()\n",
        "  file_count = len(files)\n",
        "  return file_count"
      ],
      "execution_count": 0,
      "outputs": []
    },
    {
      "metadata": {
        "id": "HPQnF9l-oldn",
        "colab_type": "text"
      },
      "cell_type": "markdown",
      "source": [
        "**Name of Contact and number of messages exchanged:**"
      ]
    },
    {
      "metadata": {
        "id": "lDVWAfUZpaLt",
        "colab_type": "code",
        "colab": {
          "autoexec": {
            "startup": false,
            "wait_interval": 0
          }
        }
      },
      "cell_type": "code",
      "source": [
        "def getOverallMessageStat(dirname,time_step=50):\n",
        "  num_files = getFileCount(dirname)\n",
        "  msg_dct = {}\n",
        "  for i in range(num_files):\n",
        "    soup = BeautifulSoup(open(dirname+str(i)+'.html','r'), 'html.parser')\n",
        "    ls = soup.find_all('p')\n",
        "    num_msgs = len(ls)\n",
        "    num_contact = soup.find('title').text[18:]\n",
        "    msg_dct[num_contact] = num_msgs\n",
        "    if i%time_step == 0:\n",
        "      print \"Progress:\" + str(i) + \" contacts processed\"\n",
        "  dct = sorted(msg_dct.items(), key=lambda x: x[1],reverse=True)\n",
        "  return dct\n",
        "\n",
        "  "
      ],
      "execution_count": 0,
      "outputs": []
    },
    {
      "metadata": {
        "id": "VnYfvKZFuR9W",
        "colab_type": "code",
        "colab": {
          "autoexec": {
            "startup": false,
            "wait_interval": 0
          },
          "output_extras": [
            {
              "item_id": 8
            }
          ],
          "base_uri": "https://localhost:8080/",
          "height": 161
        },
        "outputId": "3b079542-7bf9-42ad-87fb-392c94d66800",
        "executionInfo": {
          "status": "ok",
          "timestamp": 1522161344231,
          "user_tz": -330,
          "elapsed": 47304,
          "user": {
            "displayName": "SHAMIK KUNDU",
            "photoUrl": "https://lh3.googleusercontent.com/a/default-user=s128",
            "userId": "103652972737434762725"
          }
        }
      },
      "cell_type": "code",
      "source": [
        "msgstatList = getOverallMessageStat('drive/COLAB/Facebook/Message/')"
      ],
      "execution_count": 4,
      "outputs": [
        {
          "output_type": "stream",
          "text": [
            "Progress:0 contacts processed\n",
            "Progress:50 contacts processed\n",
            "Progress:100 contacts processed\n",
            "Progress:150 contacts processed\n",
            "Progress:200 contacts processed\n",
            "Progress:250 contacts processed\n",
            "Progress:300 contacts processed\n",
            "Progress:350 contacts processed\n"
          ],
          "name": "stdout"
        }
      ]
    },
    {
      "metadata": {
        "id": "av1W1Whqsf2-",
        "colab_type": "code",
        "colab": {
          "autoexec": {
            "startup": false,
            "wait_interval": 0
          }
        }
      },
      "cell_type": "code",
      "source": [
        "def msgcountGraphHelper(msgstat,defaultcount = 10):\n",
        "  nameList = []\n",
        "  msgnumList = []\n",
        "  count = 0\n",
        "  for k in msgstat:\n",
        "    if count <defaultcount:\n",
        "      nameList.append(k[0])\n",
        "      msgnumList.append(k[1])\n",
        "    else:\n",
        "      break\n",
        "    count = count + 1\n",
        "  return nameList, msgnumList"
      ],
      "execution_count": 0,
      "outputs": []
    },
    {
      "metadata": {
        "id": "YKMgRxOrx9T5",
        "colab_type": "code",
        "colab": {
          "autoexec": {
            "startup": false,
            "wait_interval": 0
          }
        }
      },
      "cell_type": "code",
      "source": [
        "x, y = msgcountGraphHelper(msgstatList,15)"
      ],
      "execution_count": 0,
      "outputs": []
    },
    {
      "metadata": {
        "id": "WbB7pEy82teN",
        "colab_type": "text"
      },
      "cell_type": "markdown",
      "source": [
        "**Show bar plot of Contacts vs #Messages:**"
      ]
    },
    {
      "metadata": {
        "id": "FypUC-Fdqv3B",
        "colab_type": "code",
        "colab": {
          "autoexec": {
            "startup": false,
            "wait_interval": 0
          }
        }
      },
      "cell_type": "code",
      "source": [
        "def getMsgCountGraph(msgstatList,msgscount=10):\n",
        "  x,y = msgcountGraphHelper(msgstatList,msgscount)\n",
        "  n = len(x)\n",
        "  sns.set_context(rc={\"figure.figsize\": (18, 5)})\n",
        "  nd = np.arange(n)\n",
        "  width=0.2\n",
        "  #plt.xticks(nd+width/2., ('1','1000','1001'))\n",
        "  plt.xticks(nd+width/2., x,rotation = 90)\n",
        "  plt.xlim(-0.15,n)\n",
        "  plt.xlabel(\"Contact Name\")\n",
        "  plt.ylabel(\"# of Messages\")\n",
        "  fig = plt.bar(nd, y, color=sns.color_palette(\"Greens\",n))\n",
        "  #plt.legend(fig, ['First','Second','Third'], loc = \"upper left\", title = \"cat\")\n",
        "  plt.show()"
      ],
      "execution_count": 0,
      "outputs": []
    },
    {
      "metadata": {
        "id": "tjL8U26J1Lfu",
        "colab_type": "code",
        "colab": {
          "autoexec": {
            "startup": false,
            "wait_interval": 0
          },
          "output_extras": [
            {
              "item_id": 1
            }
          ],
          "base_uri": "https://localhost:8080/",
          "height": 504
        },
        "outputId": "7f88c088-cf21-4653-9c0f-5269caf59cab",
        "executionInfo": {
          "status": "ok",
          "timestamp": 1522161522866,
          "user_tz": -330,
          "elapsed": 1367,
          "user": {
            "displayName": "SHAMIK KUNDU",
            "photoUrl": "https://lh3.googleusercontent.com/a/default-user=s128",
            "userId": "103652972737434762725"
          }
        }
      },
      "cell_type": "code",
      "source": [
        "getMsgCountGraph(msgstatList, 15)"
      ],
      "execution_count": 16,
      "outputs": [
        {
          "output_type": "display_data",
          "data": {
            "image/png": "[encoded data removed]",
            "text/plain": [
              "<matplotlib.figure.Figure at 0x7fe0c5271c10>"
            ]
          },
          "metadata": {
            "tags": []
          }
        }
      ]
    },
    {
      "metadata": {
        "id": "slp07OPrvQpz",
        "colab_type": "code",
        "colab": {
          "autoexec": {
            "startup": false,
            "wait_interval": 0
          },
          "output_extras": [
            {
              "item_id": 1
            }
          ],
          "base_uri": "https://localhost:8080/",
          "height": 35
        },
        "outputId": "29c20aed-990b-4089-ca41-397cc8cc54eb",
        "executionInfo": {
          "status": "ok",
          "timestamp": 1522168337075,
          "user_tz": -330,
          "elapsed": 877,
          "user": {
            "displayName": "SHAMIK KUNDU",
            "photoUrl": "https://lh3.googleusercontent.com/a/default-user=s128",
            "userId": "103652972737434762725"
          }
        }
      },
      "cell_type": "code",
      "source": [
        "msgstatList[85]"
      ],
      "execution_count": 61,
      "outputs": [
        {
          "output_type": "execute_result",
          "data": {
            "text/plain": [
              "(u'Chalavadi Vishnu', 151)"
            ]
          },
          "metadata": {
            "tags": []
          },
          "execution_count": 61
        }
      ]
    },
    {
      "metadata": {
        "id": "thghracp7-aF",
        "colab_type": "code",
        "colab": {
          "autoexec": {
            "startup": false,
            "wait_interval": 0
          }
        }
      },
      "cell_type": "code",
      "source": [
        ""
      ],
      "execution_count": 0,
      "outputs": []
    },
    {
      "metadata": {
        "id": "YCGqlrJVL_Pf",
        "colab_type": "text"
      },
      "cell_type": "markdown",
      "source": [
        "**Get Facebook message Vocabulary:**"
      ]
    },
    {
      "metadata": {
        "id": "nTa-Efn6ba-_",
        "colab_type": "code",
        "colab": {
          "autoexec": {
            "startup": false,
            "wait_interval": 0
          }
        }
      },
      "cell_type": "code",
      "source": [
        "def getMyVocabularyStat(dirname):\n",
        "  num_files = getFileCount(dirname)\n",
        "  messages = []\n",
        "  for i in range(num_files):\n",
        "    soup = BeautifulSoup(open(dirname+str(i)+'.html','r'), 'html.parser')\n",
        "    for items in soup.find_all('span', 'user'):\n",
        "      if items.text == 'Shamik Kundu':\n",
        "        a = items.find_next('p')\n",
        "        messages.append(a)\n",
        "  vc = {}\n",
        "  for message in messages:\n",
        "    msg = message.text\n",
        "    tokens = nltk.word_tokenize(msg)\n",
        "    for token in tokens:\n",
        "      tk_lower = token.lower()\n",
        "      if tk_lower not in vc:\n",
        "        vc[tk_lower] = 1\n",
        "      else:\n",
        "        vc[tk_lower] += 1\n",
        "  vct = sorted(vc.items(), key=lambda x: x[1],reverse=True)\n",
        "  v_clean = []\n",
        "  for item in vct:\n",
        "    word = item[0]\n",
        "    count = item[1]\n",
        "    try:\n",
        "      word = str(word)\n",
        "    except:\n",
        "      pass\n",
        "    v_clean.append((word,count))\n",
        "  return v_clean\n",
        "  \n",
        "  "
      ],
      "execution_count": 0,
      "outputs": []
    },
    {
      "metadata": {
        "id": "o3MWObsccG1Z",
        "colab_type": "code",
        "colab": {
          "autoexec": {
            "startup": false,
            "wait_interval": 0
          }
        }
      },
      "cell_type": "code",
      "source": [
        "v = getMyVocabularyStat(\"drive/COLAB/Facebook/Message/\")"
      ],
      "execution_count": 0,
      "outputs": []
    },
    {
      "metadata": {
        "id": "D49MMs933bXU",
        "colab_type": "code",
        "colab": {
          "autoexec": {
            "startup": false,
            "wait_interval": 0
          },
          "output_extras": [
            {
              "item_id": 1
            }
          ],
          "base_uri": "https://localhost:8080/",
          "height": 917
        },
        "outputId": "9bdb44ab-a744-4cc0-d1b0-1e137aa892fb",
        "executionInfo": {
          "status": "ok",
          "timestamp": 1522177835853,
          "user_tz": -330,
          "elapsed": 848,
          "user": {
            "displayName": "SHAMIK KUNDU",
            "photoUrl": "https://lh3.googleusercontent.com/a/default-user=s128",
            "userId": "103652972737434762725"
          }
        }
      },
      "cell_type": "code",
      "source": [
        "v[0:50]"
      ],
      "execution_count": 197,
      "outputs": [
        {
          "output_type": "execute_result",
          "data": {
            "text/plain": [
              "[('!', 40495),\n",
              " ('?', 28564),\n",
              " (':', 15292),\n",
              " ('to', 12911),\n",
              " ('i', 11704),\n",
              " ('.', 9529),\n",
              " ('e', 8625),\n",
              " ('the', 7839),\n",
              " ('p', 7556),\n",
              " (',', 7465),\n",
              " ('you', 7094),\n",
              " ('na', 6980),\n",
              " ('er', 6670),\n",
              " ('ta', 5119),\n",
              " ('a', 4861),\n",
              " ('ki', 4749),\n",
              " ('o', 4082),\n",
              " ('in', 3996),\n",
              " (')', 3956),\n",
              " ('it', 3869),\n",
              " ('and', 3781),\n",
              " ('of', 3558),\n",
              " ('is', 3542),\n",
              " ('ami', 3524),\n",
              " ('that', 3506),\n",
              " ('(', 3283),\n",
              " ('but', 3135),\n",
              " (\"'s\", 2940),\n",
              " ('r', 2844),\n",
              " ('tui', 2754),\n",
              " ('are', 2745),\n",
              " ('bhai', 2497),\n",
              " ('kore', 2465),\n",
              " ('...', 2444),\n",
              " ('do', 2414),\n",
              " (\"n't\", 2334),\n",
              " ('for', 2222),\n",
              " ('amar', 2219),\n",
              " ('thke', 2214),\n",
              " ('ei', 2206),\n",
              " ('me', 2195),\n",
              " ('te', 2189),\n",
              " ('haha', 2120),\n",
              " ('k', 2052),\n",
              " (\"''\", 2033),\n",
              " ('ache', 2016),\n",
              " ('have', 1995),\n",
              " ('this', 1967),\n",
              " ('ha', 1937),\n",
              " ('ekta', 1876)]"
            ]
          },
          "metadata": {
            "tags": []
          },
          "execution_count": 197
        }
      ]
    },
    {
      "metadata": {
        "id": "1q0JEitk0GIa",
        "colab_type": "code",
        "colab": {
          "autoexec": {
            "startup": false,
            "wait_interval": 0
          }
        }
      },
      "cell_type": "code",
      "source": [
        "def WordCountGraphHelper(dirname,count):\n",
        "  v_clean = getMyVocabularyStat(dirname)\n",
        "  x = []\n",
        "  y = []\n",
        "  cnt = 0\n",
        "  for item in v_clean:\n",
        "    if cnt < count:\n",
        "      x.append(item[0])\n",
        "      y.append(item[1])\n",
        "    else:\n",
        "      break\n",
        "    cnt = cnt + 1\n",
        "  return x,y"
      ],
      "execution_count": 0,
      "outputs": []
    },
    {
      "metadata": {
        "id": "1VtDqiC8yoWp",
        "colab_type": "code",
        "colab": {
          "autoexec": {
            "startup": false,
            "wait_interval": 0
          }
        }
      },
      "cell_type": "code",
      "source": [
        "def getWordCountGraph(dirname,wordscount=100):\n",
        "  x,y = WordCountGraphHelper(dirname,wordscount)\n",
        "  n = len(x)\n",
        "  sns.set_context(rc={\"figure.figsize\": (18, 5)})\n",
        "  nd = np.arange(n)\n",
        "  width=0.2\n",
        "  #plt.xticks(nd+width/2., ('1','1000','1001'))\n",
        "  plt.xticks(nd+width/2., x,rotation = 90)\n",
        "  plt.xlim(-0.15,n)\n",
        "  plt.xlabel(\"Word Name\")\n",
        "  plt.ylabel(\"# of Occurances\")\n",
        "  fig = plt.bar(nd, y, color=sns.color_palette(\"Reds\",n))\n",
        "  #plt.legend(fig, ['First','Second','Third'], loc = \"upper left\", title = \"cat\")\n",
        "  plt.show()"
      ],
      "execution_count": 0,
      "outputs": []
    },
    {
      "metadata": {
        "id": "ppmh2SD-132y",
        "colab_type": "code",
        "colab": {
          "autoexec": {
            "startup": false,
            "wait_interval": 0
          },
          "output_extras": [
            {
              "item_id": 1
            }
          ],
          "base_uri": "https://localhost:8080/",
          "height": 347
        },
        "outputId": "414b3318-8c41-434b-e5ec-a73c30df5b09",
        "executionInfo": {
          "status": "ok",
          "timestamp": 1522178228611,
          "user_tz": -330,
          "elapsed": 87511,
          "user": {
            "displayName": "SHAMIK KUNDU",
            "photoUrl": "https://lh3.googleusercontent.com/a/default-user=s128",
            "userId": "103652972737434762725"
          }
        }
      },
      "cell_type": "code",
      "source": [
        "getWordCountGraph(\"drive/COLAB/Facebook/Message/\",50)"
      ],
      "execution_count": 198,
      "outputs": [
        {
          "output_type": "display_data",
          "data": {
            "image/png": "[encoded data removed]",
            "text/plain": [
              "<matplotlib.figure.Figure at 0x7fe071ed4ad0>"
            ]
          },
          "metadata": {
            "tags": []
          }
        }
      ]
    },
    {
      "metadata": {
        "id": "993SE6kUxq-8",
        "colab_type": "text"
      },
      "cell_type": "markdown",
      "source": [
        "**Get Wordcloud of top used words in messages:**"
      ]
    },
    {
      "metadata": {
        "id": "MEz1jNf5o_9n",
        "colab_type": "code",
        "colab": {
          "autoexec": {
            "startup": false,
            "wait_interval": 0
          }
        }
      },
      "cell_type": "code",
      "source": [
        "def wordCloudHelper(dirname):\n",
        "  messages = []\n",
        "  num_files = getFileCount(dirname)\n",
        "  for i in range(num_files):\n",
        "    soup = BeautifulSoup(open(dirname+str(i)+'.html','r'), 'html.parser')\n",
        "    for items in soup.find_all('span', 'user'):\n",
        "      if items.text == 'Shamik Kundu':\n",
        "        a = items.find_next('p')\n",
        "        messages.append(a.text)\n",
        "  emoji_pattern = re.compile(\"[\"\n",
        "          u\"\\U0001F600-\\U0001F64F\"  # emoticons\n",
        "          u\"\\U0001F300-\\U0001F5FF\"  # symbols & pictographs\n",
        "          u\"\\U0001F680-\\U0001F6FF\"  # transport & map symbols\n",
        "          u\"\\U0001F1E0-\\U0001F1FF\"  # flags (iOS)\n",
        "                             \"]+\", flags=re.UNICODE)\n",
        "  msgs = []\n",
        "  for texts in messages:\n",
        "    text = emoji_pattern.sub(r'', texts)\n",
        "    try:\n",
        "      text = str(text)\n",
        "      msgs.append(text)\n",
        "    except:\n",
        "      msgs.append(text)\n",
        "  return msgs"
      ],
      "execution_count": 0,
      "outputs": []
    },
    {
      "metadata": {
        "id": "IQknA0JToa27",
        "colab_type": "code",
        "colab": {
          "autoexec": {
            "startup": false,
            "wait_interval": 0
          }
        }
      },
      "cell_type": "code",
      "source": [
        "def show_wordcloud(dirname,count = 50, title = None):\n",
        "    msgs = wordCloudHelper(dirname)\n",
        "    stopwords = set(STOPWORDS)\n",
        "    wordcloud = WordCloud(\n",
        "        background_color='white',\n",
        "        stopwords=stopwords,\n",
        "        max_words=count,\n",
        "        max_font_size=40, \n",
        "        scale=5,\n",
        "        random_state=0 \n",
        "    ).generate(str(msgs))\n",
        "\n",
        "    fig = plt.figure(1, figsize=(12, 12))\n",
        "    plt.axis('off')\n",
        "    if title: \n",
        "        fig.suptitle(title, fontsize=20)\n",
        "        fig.subplots_adjust(top=2.3)\n",
        "\n",
        "    plt.imshow(wordcloud)\n",
        "    plt.show()"
      ],
      "execution_count": 0,
      "outputs": []
    },
    {
      "metadata": {
        "id": "H6U0efCju1ns",
        "colab_type": "code",
        "colab": {
          "autoexec": {
            "startup": false,
            "wait_interval": 0
          },
          "output_extras": [
            {
              "item_id": 1
            }
          ],
          "base_uri": "https://localhost:8080/",
          "height": 423
        },
        "outputId": "1fee4fab-2ee6-4d64-b754-80b85b1ab2cc",
        "executionInfo": {
          "status": "ok",
          "timestamp": 1522175991801,
          "user_tz": -330,
          "elapsed": 71121,
          "user": {
            "displayName": "SHAMIK KUNDU",
            "photoUrl": "https://lh3.googleusercontent.com/a/default-user=s128",
            "userId": "103652972737434762725"
          }
        }
      },
      "cell_type": "code",
      "source": [
        "show_wordcloud('drive/COLAB/Facebook/Message/',60, 'Top 60 used words in messages')"
      ],
      "execution_count": 180,
      "outputs": [
        {
          "output_type": "display_data",
          "data": {
            "image/png": "[encoded data removed]",
            "text/plain": [
              "<matplotlib.figure.Figure at 0x7fe0abc72810>"
            ]
          },
          "metadata": {
            "tags": []
          }
        }
      ]
    }
  ]
}