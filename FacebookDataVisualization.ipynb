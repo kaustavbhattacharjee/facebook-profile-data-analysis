{
  "nbformat": 4,
  "nbformat_minor": 0,
  "metadata": {
    "colab": {
      "name": "FacebookDataVisualization.ipynb",
      "version": "0.3.2",
      "views": {},
      "default_view": {},
      "provenance": []
    }
  },
  "cells": [
    {
      "metadata": {
        "id": "DemScTyUlEFg",
        "colab_type": "code",
        "colab": {
          "autoexec": {
            "startup": false,
            "wait_interval": 0
          },
          "output_extras": [
            {
              "item_id": 4
            }
          ],
          "base_uri": "https://localhost:8080/",
          "height": 109
        },
        "outputId": "8d65c681-d024-46b5-e735-d8f702078ba6",
        "executionInfo": {
          "status": "ok",
          "timestamp": 1522202060481,
          "user_tz": -330,
          "elapsed": 14253,
          "user": {
            "displayName": "SHAMIK KUNDU",
            "photoUrl": "https://lh3.googleusercontent.com/a/default-user=s128",
            "userId": "103652972737434762725"
          }
        }
      },
      "cell_type": "code",
      "source": [
        "!apt-get install -y -qq software-properties-common python-software-properties module-init-tools\n",
        "!add-apt-repository -y ppa:alessandro-strada/ppa 2>&1 > /dev/null\n",
        "!apt-get update -qq 2>&1 > /dev/null\n",
        "!apt-get -y install -qq google-drive-ocamlfuse fuse\n",
        "from google.colab import auth\n",
        "auth.authenticate_user()\n",
        "from oauth2client.client import GoogleCredentials\n",
        "creds = GoogleCredentials.get_application_default()\n",
        "import getpass\n",
        "!google-drive-ocamlfuse -headless -id={creds.client_id} -secret={creds.client_secret} < /dev/null 2>&1 | grep URL\n",
        "vcode = getpass.getpass()\n",
        "!echo {vcode} | google-drive-ocamlfuse -headless -id={creds.client_id} -secret={creds.client_secret}"
      ],
      "execution_count": 1,
      "outputs": [
        {
          "output_type": "stream",
          "text": [
            "Please, open the following URL in a web browser: https://accounts.google.com/o/oauth2/auth?client_id=32555940559.apps.googleusercontent.com&redirect_uri=urn%3Aietf%3Awg%3Aoauth%3A2.0%3Aoob&scope=https%3A%2F%2Fwww.googleapis.com%2Fauth%2Fdrive&response_type=code&access_type=offline&approval_prompt=force\r\n",
            "··········\n",
            "Please, open the following URL in a web browser: https://accounts.google.com/o/oauth2/auth?client_id=32555940559.apps.googleusercontent.com&redirect_uri=urn%3Aietf%3Awg%3Aoauth%3A2.0%3Aoob&scope=https%3A%2F%2Fwww.googleapis.com%2Fauth%2Fdrive&response_type=code&access_type=offline&approval_prompt=force\n",
            "Please enter the verification code: Access token retrieved correctly.\n"
          ],
          "name": "stdout"
        }
      ]
    },
    {
      "metadata": {
        "id": "Q4KQimvNlJYS",
        "colab_type": "code",
        "colab": {
          "autoexec": {
            "startup": false,
            "wait_interval": 0
          }
        }
      },
      "cell_type": "code",
      "source": [
        "!mkdir -p drive\n",
        "!google-drive-ocamlfuse drive -o nonempty"
      ],
      "execution_count": 0,
      "outputs": []
    },
    {
      "metadata": {
        "id": "oZhfrwzN3hBa",
        "colab_type": "text"
      },
      "cell_type": "markdown",
      "source": [
        "# **Features:**\n",
        "\n",
        "\n",
        "*   Get overall stat of message count wrt contacts: **getOverallMessageStat()**\n",
        "*   Get a bar plot of 'contacts vs #messages: **getMsgCountGraph()**\n",
        "*   Get your message vocabulary stats: **getMyVocabularyStat()**\n",
        "*   Get a bar plot of your message vocabulary: **getWordCountGraph()** \n",
        "*   Get wordcloud made out of your most used words: **show_wordcloud()**\n",
        "*   Get number of messages exchanged w.r.t day of week: **getMessagebyWeekGraph()** \n",
        "*   Get number of messages exchanged w.r.t years: **getMessagebyYearGraph()**\n",
        "*   Get number of messages exchanged w.r.t time of a day: **getMessagebyTimeGraph()**\n",
        "\n",
        "\n"
      ]
    },
    {
      "metadata": {
        "id": "tacyUSsZlkZt",
        "colab_type": "code",
        "colab": {
          "autoexec": {
            "startup": false,
            "wait_interval": 0
          }
        }
      },
      "cell_type": "code",
      "source": [
        "from bs4 import BeautifulSoup\n",
        "from collections import Counter\n",
        "import os\n",
        "import re\n",
        "import matplotlib.pyplot as plt\n",
        "import numpy as np\n",
        "import seaborn as sns"
      ],
      "execution_count": 0,
      "outputs": []
    },
    {
      "metadata": {
        "id": "xs94vHaDX_uJ",
        "colab_type": "code",
        "colab": {
          "autoexec": {
            "startup": false,
            "wait_interval": 0
          },
          "output_extras": [
            {
              "item_id": 1
            },
            {
              "item_id": 2
            }
          ],
          "base_uri": "https://localhost:8080/",
          "height": 71
        },
        "outputId": "a299b4c3-e48b-4bc3-8702-0c403a0edec1",
        "executionInfo": {
          "status": "ok",
          "timestamp": 1522216762285,
          "user_tz": -330,
          "elapsed": 842,
          "user": {
            "displayName": "SHAMIK KUNDU",
            "photoUrl": "https://lh3.googleusercontent.com/a/default-user=s128",
            "userId": "103652972737434762725"
          }
        }
      },
      "cell_type": "code",
      "source": [
        "import nltk\n",
        "nltk.download(\"punkt\")"
      ],
      "execution_count": 104,
      "outputs": [
        {
          "output_type": "stream",
          "text": [
            "[nltk_data] Downloading package punkt to /content/nltk_data...\n",
            "[nltk_data]   Package punkt is already up-to-date!\n"
          ],
          "name": "stdout"
        },
        {
          "output_type": "execute_result",
          "data": {
            "text/plain": [
              "True"
            ]
          },
          "metadata": {
            "tags": []
          },
          "execution_count": 104
        }
      ]
    },
    {
      "metadata": {
        "id": "Bq3AaDe_oNW6",
        "colab_type": "code",
        "colab": {
          "autoexec": {
            "startup": false,
            "wait_interval": 0
          },
          "output_extras": [
            {
              "item_id": 2
            }
          ],
          "base_uri": "https://localhost:8080/",
          "height": 253
        },
        "outputId": "79ff80c9-41ab-4a9e-8eab-b4178471ceeb",
        "executionInfo": {
          "status": "ok",
          "timestamp": 1522216766851,
          "user_tz": -330,
          "elapsed": 2873,
          "user": {
            "displayName": "SHAMIK KUNDU",
            "photoUrl": "https://lh3.googleusercontent.com/a/default-user=s128",
            "userId": "103652972737434762725"
          }
        }
      },
      "cell_type": "code",
      "source": [
        "!pip install wordcloud"
      ],
      "execution_count": 105,
      "outputs": [
        {
          "output_type": "stream",
          "text": [
            "Requirement already satisfied: wordcloud in /usr/local/lib/python2.7/dist-packages\r\n",
            "Requirement already satisfied: numpy>=1.6.1 in /usr/local/lib/python2.7/dist-packages (from wordcloud)\r\n",
            "Requirement already satisfied: pillow in /usr/local/lib/python2.7/dist-packages (from wordcloud)\r\n",
            "Requirement already satisfied: matplotlib in /usr/local/lib/python2.7/dist-packages (from wordcloud)\r\n",
            "Requirement already satisfied: olefile in /usr/local/lib/python2.7/dist-packages (from pillow->wordcloud)\r\n",
            "Requirement already satisfied: cycler>=0.10 in /usr/local/lib/python2.7/dist-packages (from matplotlib->wordcloud)\r\n",
            "Requirement already satisfied: backports.functools-lru-cache in /usr/local/lib/python2.7/dist-packages (from matplotlib->wordcloud)\n",
            "Requirement already satisfied: subprocess32 in /usr/local/lib/python2.7/dist-packages (from matplotlib->wordcloud)\n",
            "Requirement already satisfied: pytz in /usr/local/lib/python2.7/dist-packages (from matplotlib->wordcloud)\n",
            "Requirement already satisfied: six>=1.10 in /usr/local/lib/python2.7/dist-packages (from matplotlib->wordcloud)\n",
            "Requirement already satisfied: python-dateutil>=2.1 in /usr/local/lib/python2.7/dist-packages (from matplotlib->wordcloud)\n",
            "Requirement already satisfied: pyparsing!=2.0.4,!=2.1.2,!=2.1.6,>=2.0.1 in /usr/local/lib/python2.7/dist-packages (from matplotlib->wordcloud)\n"
          ],
          "name": "stdout"
        }
      ]
    },
    {
      "metadata": {
        "id": "qErGaOFBtV-3",
        "colab_type": "code",
        "colab": {
          "autoexec": {
            "startup": false,
            "wait_interval": 0
          }
        }
      },
      "cell_type": "code",
      "source": [
        "from wordcloud import WordCloud, STOPWORDS"
      ],
      "execution_count": 0,
      "outputs": []
    },
    {
      "metadata": {
        "id": "7DVaMdy7pNdN",
        "colab_type": "text"
      },
      "cell_type": "markdown",
      "source": [
        "**Get total number of html files to parse:**"
      ]
    },
    {
      "metadata": {
        "id": "N2XMi7XhotS4",
        "colab_type": "code",
        "colab": {
          "autoexec": {
            "startup": false,
            "wait_interval": 0
          }
        }
      },
      "cell_type": "code",
      "source": [
        "def getFileCount(dirname):\n",
        "  path, dirs, files = os.walk(dirname).next()\n",
        "  file_count = len(files)\n",
        "  return file_count"
      ],
      "execution_count": 0,
      "outputs": []
    },
    {
      "metadata": {
        "id": "HPQnF9l-oldn",
        "colab_type": "text"
      },
      "cell_type": "markdown",
      "source": [
        "**Name of Contact and number of messages exchanged:**"
      ]
    },
    {
      "metadata": {
        "id": "lDVWAfUZpaLt",
        "colab_type": "code",
        "colab": {
          "autoexec": {
            "startup": false,
            "wait_interval": 0
          }
        }
      },
      "cell_type": "code",
      "source": [
        "def getOverallMessageStat(dirname,time_step=50):\n",
        "  num_files = getFileCount(dirname)\n",
        "  msg_dct = {}\n",
        "  for i in range(num_files):\n",
        "    soup = BeautifulSoup(open(dirname+str(i)+'.html','r'), 'html.parser')\n",
        "    ls = soup.find_all('p')\n",
        "    num_msgs = len(ls)\n",
        "    num_contact = soup.find('title').text[18:]\n",
        "    msg_dct[num_contact] = num_msgs\n",
        "    if i%time_step == 0:\n",
        "      print \"Progress:\" + str(i) + \" contacts processed\"\n",
        "  dct = sorted(msg_dct.items(), key=lambda x: x[1],reverse=True)\n",
        "  return dct\n",
        "\n",
        "  "
      ],
      "execution_count": 0,
      "outputs": []
    },
    {
      "metadata": {
        "id": "VnYfvKZFuR9W",
        "colab_type": "code",
        "colab": {
          "autoexec": {
            "startup": false,
            "wait_interval": 0
          },
          "output_extras": [
            {
              "item_id": 8
            }
          ],
          "base_uri": "https://localhost:8080/",
          "height": 161
        },
        "outputId": "3b079542-7bf9-42ad-87fb-392c94d66800",
        "executionInfo": {
          "status": "ok",
          "timestamp": 1522161344231,
          "user_tz": -330,
          "elapsed": 47304,
          "user": {
            "displayName": "SHAMIK KUNDU",
            "photoUrl": "https://lh3.googleusercontent.com/a/default-user=s128",
            "userId": "103652972737434762725"
          }
        }
      },
      "cell_type": "code",
      "source": [
        "msgstatList = getOverallMessageStat('drive/COLAB/Facebook/Message/')"
      ],
      "execution_count": 4,
      "outputs": [
        {
          "output_type": "stream",
          "text": [
            "Progress:0 contacts processed\n",
            "Progress:50 contacts processed\n",
            "Progress:100 contacts processed\n",
            "Progress:150 contacts processed\n",
            "Progress:200 contacts processed\n",
            "Progress:250 contacts processed\n",
            "Progress:300 contacts processed\n",
            "Progress:350 contacts processed\n"
          ],
          "name": "stdout"
        }
      ]
    },
    {
      "metadata": {
        "id": "av1W1Whqsf2-",
        "colab_type": "code",
        "colab": {
          "autoexec": {
            "startup": false,
            "wait_interval": 0
          }
        }
      },
      "cell_type": "code",
      "source": [
        "def msgcountGraphHelper(msgstat,defaultcount = 10):\n",
        "  nameList = []\n",
        "  msgnumList = []\n",
        "  count = 0\n",
        "  for k in msgstat:\n",
        "    if count <defaultcount:\n",
        "      nameList.append(k[0])\n",
        "      msgnumList.append(k[1])\n",
        "    else:\n",
        "      break\n",
        "    count = count + 1\n",
        "  return nameList, msgnumList"
      ],
      "execution_count": 0,
      "outputs": []
    },
    {
      "metadata": {
        "id": "YKMgRxOrx9T5",
        "colab_type": "code",
        "colab": {
          "autoexec": {
            "startup": false,
            "wait_interval": 0
          }
        }
      },
      "cell_type": "code",
      "source": [
        "x, y = msgcountGraphHelper(msgstatList,15)"
      ],
      "execution_count": 0,
      "outputs": []
    },
    {
      "metadata": {
        "id": "WbB7pEy82teN",
        "colab_type": "text"
      },
      "cell_type": "markdown",
      "source": [
        "**Show bar plot of Contacts vs #Messages:**"
      ]
    },
    {
      "metadata": {
        "id": "FypUC-Fdqv3B",
        "colab_type": "code",
        "colab": {
          "autoexec": {
            "startup": false,
            "wait_interval": 0
          }
        }
      },
      "cell_type": "code",
      "source": [
        "def getMsgCountGraph(msgstatList,msgscount=10):\n",
        "  x,y = msgcountGraphHelper(msgstatList,msgscount)\n",
        "  n = len(x)\n",
        "  sns.set_context(rc={\"figure.figsize\": (18, 5)})\n",
        "  nd = np.arange(n)\n",
        "  width=0.2\n",
        "  plt.xticks(nd+width/2., x,rotation = 90)\n",
        "  plt.xlim(-0.15,n)\n",
        "  plt.xlabel(\"Contact Name\")\n",
        "  plt.ylabel(\"# of Messages\")\n",
        "  fig = plt.bar(nd, y, color=sns.color_palette(\"Greens\",n))\n",
        "  plt.show()"
      ],
      "execution_count": 0,
      "outputs": []
    },
    {
      "metadata": {
        "id": "tjL8U26J1Lfu",
        "colab_type": "code",
        "colab": {
          "autoexec": {
            "startup": false,
            "wait_interval": 0
          },
          "output_extras": [
            {
              "item_id": 1
            }
          ],
          "base_uri": "https://localhost:8080/",
          "height": 504
        },
        "outputId": "7f88c088-cf21-4653-9c0f-5269caf59cab",
        "executionInfo": {
          "status": "ok",
          "timestamp": 1522161522866,
          "user_tz": -330,
          "elapsed": 1367,
          "user": {
            "displayName": "SHAMIK KUNDU",
            "photoUrl": "https://lh3.googleusercontent.com/a/default-user=s128",
            "userId": "103652972737434762725"
          }
        }
      },
      "cell_type": "code",
      "source": [
        "getMsgCountGraph(msgstatList, 15)"
      ],
      "execution_count": 16,
      "outputs": [
        {
          "output_type": "display_data",
          "data": {
            "image/png": "[encoded data removed]",
            "text/plain": [
              "<matplotlib.figure.Figure at 0x7fe0c5271c10>"
            ]
          },
          "metadata": {
            "tags": []
          }
        }
      ]
    },
    {
      "metadata": {
        "id": "YCGqlrJVL_Pf",
        "colab_type": "text"
      },
      "cell_type": "markdown",
      "source": [
        "**Get Facebook message Vocabulary:**"
      ]
    },
    {
      "metadata": {
        "id": "nTa-Efn6ba-_",
        "colab_type": "code",
        "colab": {
          "autoexec": {
            "startup": false,
            "wait_interval": 0
          }
        }
      },
      "cell_type": "code",
      "source": [
        "def getMyVocabularyStat(dirname):\n",
        "  num_files = getFileCount(dirname)\n",
        "  messages = []\n",
        "  for i in range(num_files):\n",
        "    soup = BeautifulSoup(open(dirname+str(i)+'.html','r'), 'html.parser')\n",
        "    for items in soup.find_all('span', 'user'):\n",
        "      if items.text == 'Shamik Kundu':\n",
        "        a = items.find_next('p')\n",
        "        messages.append(a)\n",
        "  vc = {}\n",
        "  for message in messages:\n",
        "    msg = message.text\n",
        "    tokens = nltk.word_tokenize(msg)\n",
        "    for token in tokens:\n",
        "      tk_lower = token.lower()\n",
        "      if tk_lower not in vc:\n",
        "        vc[tk_lower] = 1\n",
        "      else:\n",
        "        vc[tk_lower] += 1\n",
        "  vct = sorted(vc.items(), key=lambda x: x[1],reverse=True)\n",
        "  v_clean = []\n",
        "  for item in vct:\n",
        "    word = item[0]\n",
        "    count = item[1]\n",
        "    try:\n",
        "      word = str(word)\n",
        "    except:\n",
        "      pass\n",
        "    v_clean.append((word,count))\n",
        "  return v_clean\n",
        "  \n",
        "  "
      ],
      "execution_count": 0,
      "outputs": []
    },
    {
      "metadata": {
        "id": "1q0JEitk0GIa",
        "colab_type": "code",
        "colab": {
          "autoexec": {
            "startup": false,
            "wait_interval": 0
          }
        }
      },
      "cell_type": "code",
      "source": [
        "def WordCountGraphHelper(dirname,count):\n",
        "  v_clean = getMyVocabularyStat(dirname)\n",
        "  x = []\n",
        "  y = []\n",
        "  cnt = 0\n",
        "  for item in v_clean:\n",
        "    if cnt < count:\n",
        "      x.append(item[0])\n",
        "      y.append(item[1])\n",
        "    else:\n",
        "      break\n",
        "    cnt = cnt + 1\n",
        "  return x,y"
      ],
      "execution_count": 0,
      "outputs": []
    },
    {
      "metadata": {
        "id": "1VtDqiC8yoWp",
        "colab_type": "code",
        "colab": {
          "autoexec": {
            "startup": false,
            "wait_interval": 0
          }
        }
      },
      "cell_type": "code",
      "source": [
        "def getWordCountGraph(dirname,wordscount=100):\n",
        "  x,y = WordCountGraphHelper(dirname,wordscount)\n",
        "  n = len(x)\n",
        "  sns.set_context(rc={\"figure.figsize\": (18, 5)})\n",
        "  nd = np.arange(n)\n",
        "  width=0.2\n",
        "  plt.xticks(nd+width/2., x,rotation = 90)\n",
        "  plt.xlim(-0.15,n)\n",
        "  plt.xlabel(\"Word Name\")\n",
        "  plt.ylabel(\"# of Occurances\")\n",
        "  fig = plt.bar(nd, y, color=sns.color_palette(\"Reds\",n))\n",
        "  plt.show()"
      ],
      "execution_count": 0,
      "outputs": []
    },
    {
      "metadata": {
        "id": "ppmh2SD-132y",
        "colab_type": "code",
        "colab": {
          "autoexec": {
            "startup": false,
            "wait_interval": 0
          },
          "output_extras": [
            {
              "item_id": 1
            }
          ],
          "base_uri": "https://localhost:8080/",
          "height": 347
        },
        "outputId": "414b3318-8c41-434b-e5ec-a73c30df5b09",
        "executionInfo": {
          "status": "ok",
          "timestamp": 1522178228611,
          "user_tz": -330,
          "elapsed": 87511,
          "user": {
            "displayName": "SHAMIK KUNDU",
            "photoUrl": "https://lh3.googleusercontent.com/a/default-user=s128",
            "userId": "103652972737434762725"
          }
        }
      },
      "cell_type": "code",
      "source": [
        "getWordCountGraph(\"drive/COLAB/Facebook/Message/\",50)"
      ],
      "execution_count": 198,
      "outputs": [
        {
          "output_type": "display_data",
          "data": {
            "image/png": "[encoded data removed]",
            "text/plain": [
              "<matplotlib.figure.Figure at 0x7fe071ed4ad0>"
            ]
          },
          "metadata": {
            "tags": []
          }
        }
      ]
    },
    {
      "metadata": {
        "id": "993SE6kUxq-8",
        "colab_type": "text"
      },
      "cell_type": "markdown",
      "source": [
        "**Get Wordcloud of top used words in messages:**"
      ]
    },
    {
      "metadata": {
        "id": "MEz1jNf5o_9n",
        "colab_type": "code",
        "colab": {
          "autoexec": {
            "startup": false,
            "wait_interval": 0
          }
        }
      },
      "cell_type": "code",
      "source": [
        "def wordCloudHelper(dirname):\n",
        "  messages = []\n",
        "  num_files = getFileCount(dirname)\n",
        "  for i in range(num_files):\n",
        "    soup = BeautifulSoup(open(dirname+str(i)+'.html','r'), 'html.parser')\n",
        "    for items in soup.find_all('span', 'user'):\n",
        "      if items.text == 'Shamik Kundu':\n",
        "        a = items.find_next('p')\n",
        "        messages.append(a.text)\n",
        "  emoji_pattern = re.compile(\"[\"\n",
        "          u\"\\U0001F600-\\U0001F64F\"  # emoticons\n",
        "          u\"\\U0001F300-\\U0001F5FF\"  # symbols & pictographs\n",
        "          u\"\\U0001F680-\\U0001F6FF\"  # transport & map symbols\n",
        "          u\"\\U0001F1E0-\\U0001F1FF\"  # flags (iOS)\n",
        "                             \"]+\", flags=re.UNICODE)\n",
        "  msgs = []\n",
        "  for texts in messages:\n",
        "    text = emoji_pattern.sub(r'', texts)\n",
        "    try:\n",
        "      text = str(text)\n",
        "      msgs.append(text)\n",
        "    except:\n",
        "      msgs.append(text)\n",
        "  return msgs"
      ],
      "execution_count": 0,
      "outputs": []
    },
    {
      "metadata": {
        "id": "IQknA0JToa27",
        "colab_type": "code",
        "colab": {
          "autoexec": {
            "startup": false,
            "wait_interval": 0
          }
        }
      },
      "cell_type": "code",
      "source": [
        "def show_wordcloud(dirname,count = 50, title = None):\n",
        "    msgs = wordCloudHelper(dirname)\n",
        "    stopwords = set(STOPWORDS)\n",
        "    wordcloud = WordCloud(\n",
        "        background_color='white',\n",
        "        stopwords=stopwords,\n",
        "        max_words=count,\n",
        "        max_font_size=40, \n",
        "        scale=5,\n",
        "        random_state=0 \n",
        "    ).generate(str(msgs))\n",
        "\n",
        "    fig = plt.figure(1, figsize=(12, 12))\n",
        "    plt.axis('off')\n",
        "    if title: \n",
        "        fig.suptitle(title, fontsize=20)\n",
        "        fig.subplots_adjust(top=2.3)\n",
        "\n",
        "    plt.imshow(wordcloud)\n",
        "    plt.show()"
      ],
      "execution_count": 0,
      "outputs": []
    },
    {
      "metadata": {
        "id": "H6U0efCju1ns",
        "colab_type": "code",
        "colab": {
          "autoexec": {
            "startup": false,
            "wait_interval": 0
          },
          "output_extras": [
            {
              "item_id": 1
            }
          ],
          "base_uri": "https://localhost:8080/",
          "height": 423
        },
        "outputId": "1fee4fab-2ee6-4d64-b754-80b85b1ab2cc",
        "executionInfo": {
          "status": "ok",
          "timestamp": 1522175991801,
          "user_tz": -330,
          "elapsed": 71121,
          "user": {
            "displayName": "SHAMIK KUNDU",
            "photoUrl": "https://lh3.googleusercontent.com/a/default-user=s128",
            "userId": "103652972737434762725"
          }
        }
      },
      "cell_type": "code",
      "source": [
        "show_wordcloud('drive/COLAB/Facebook/Message/',60, 'Top 60 used words in messages')"
      ],
      "execution_count": 180,
      "outputs": [
        {
          "output_type": "display_data",
          "data": {
            "image/png": "[encoded data removed]",
            "text/plain": [
              "<matplotlib.figure.Figure at 0x7fe0abc72810>"
            ]
          },
          "metadata": {
            "tags": []
          }
        }
      ]
    },
    {
      "metadata": {
        "id": "1EiexVi3aojS",
        "colab_type": "text"
      },
      "cell_type": "markdown",
      "source": [
        "**Day wise message count stat:**"
      ]
    },
    {
      "metadata": {
        "id": "gTlVmIGaUNcl",
        "colab_type": "code",
        "colab": {
          "autoexec": {
            "startup": false,
            "wait_interval": 0
          }
        }
      },
      "cell_type": "code",
      "source": [
        "def getDaywiseMessageCountStat(dirname):\n",
        "  dayinfodict = {'Monday':0,'Tuesday':0,'Wednesday':0,'Thursday':0,'Friday':0,'Saturday':0,'Sunday':0}\n",
        "  num_files = getFileCount(dirname)\n",
        "  for i in range(num_files):\n",
        "    soup = BeautifulSoup(open(dirname+str(i)+'.html','r'), 'html.parser')\n",
        "    dayinfo = []\n",
        "    for items in soup.find_all('span','meta'):\n",
        "      timetext = items.text\n",
        "      if timetext[6] == ',':\n",
        "        dayinfo.append(str(timetext[:6]))\n",
        "      elif timetext[7] == \",\":\n",
        "        dayinfo.append(str(timetext[:7]))\n",
        "      elif timetext[8] == \",\":\n",
        "        dayinfo.append(str(timetext[:8]))\n",
        "      elif timetext[9] == \",\":\n",
        "        dayinfo.append(str(timetext[:9]))\n",
        "    c = Counter(dayinfo)\n",
        "    count = c.items()\n",
        "    for days in count:\n",
        "      dayinfodict[days[0]] += days[1]\n",
        "    if i%50 == 0:\n",
        "      print \"Progress: \"+ str(i) + \" contacts processed.\"\n",
        "  return dayinfodict"
      ],
      "execution_count": 0,
      "outputs": []
    },
    {
      "metadata": {
        "id": "poVg9V4rbbE5",
        "colab_type": "code",
        "colab": {
          "autoexec": {
            "startup": false,
            "wait_interval": 0
          }
        }
      },
      "cell_type": "code",
      "source": [
        "def MessagebyWeekGraphHelper(dirname,printstat):\n",
        "  daydict = getDaywiseMessageCountStat(dirname)\n",
        "  daylist = sorted(daydict.items(), key=lambda x: x[1],reverse=True)\n",
        "  days = []\n",
        "  msgcount = []\n",
        "  for items in daylist:\n",
        "    days.append(items[0])\n",
        "    msgcount.append(items[1])\n",
        "  if printstat:\n",
        "    print daylist\n",
        "  return days, msgcount"
      ],
      "execution_count": 0,
      "outputs": []
    },
    {
      "metadata": {
        "id": "LfgMYdrLbb1q",
        "colab_type": "code",
        "colab": {
          "autoexec": {
            "startup": false,
            "wait_interval": 0
          }
        }
      },
      "cell_type": "code",
      "source": [
        "def getMessagebyWeekGraph(dirname,printstat = False):\n",
        "  x,y = MessagebyWeekGraphHelper(dirname,printstat)\n",
        "  sns.set_context(rc={\"figure.figsize\": (14, 5)})\n",
        "  nd = np.arange(7)\n",
        "  width=0.2\n",
        "  plt.xticks(nd+width/2., x,rotation = 90)\n",
        "  plt.xlim(-0.15,7)\n",
        "  plt.xlabel(\"Day of week\")\n",
        "  plt.ylabel(\"# of messages exchanged\")\n",
        "  fig = plt.bar(nd, y, color=sns.color_palette(\"Blues\",7))\n",
        "  plt.show()"
      ],
      "execution_count": 0,
      "outputs": []
    },
    {
      "metadata": {
        "id": "3qPruI9RcyvR",
        "colab_type": "code",
        "colab": {
          "autoexec": {
            "startup": false,
            "wait_interval": 0
          },
          "output_extras": [
            {
              "item_id": 9
            },
            {
              "item_id": 10
            }
          ],
          "base_uri": "https://localhost:8080/",
          "height": 559
        },
        "outputId": "f2782806-e2bc-44ce-ee29-8d79f80053e0",
        "executionInfo": {
          "status": "ok",
          "timestamp": 1522204852904,
          "user_tz": -330,
          "elapsed": 53197,
          "user": {
            "displayName": "SHAMIK KUNDU",
            "photoUrl": "https://lh3.googleusercontent.com/a/default-user=s128",
            "userId": "103652972737434762725"
          }
        }
      },
      "cell_type": "code",
      "source": [
        "getMessagebyWeekGraph('drive/COLAB/Facebook/Message/', True)"
      ],
      "execution_count": 59,
      "outputs": [
        {
          "output_type": "stream",
          "text": [
            "Progress: 0 contacts processed.\n",
            "Progress: 50 contacts processed.\n",
            "Progress: 100 contacts processed.\n",
            "Progress: 150 contacts processed.\n",
            "Progress: 200 contacts processed.\n",
            "Progress: 250 contacts processed.\n",
            "Progress: 300 contacts processed.\n",
            "Progress: 350 contacts processed.\n",
            "[('Monday', 27428), ('Wednesday', 27347), ('Tuesday', 25251), ('Sunday', 25211), ('Saturday', 24810), ('Thursday', 24058), ('Friday', 23684)]\n"
          ],
          "name": "stdout"
        },
        {
          "output_type": "display_data",
          "data": {
            "image/png": "[encoded data removed]",
            "text/plain": [
              "<matplotlib.figure.Figure at 0x7f3bd8c6f150>"
            ]
          },
          "metadata": {
            "tags": []
          }
        }
      ]
    },
    {
      "metadata": {
        "id": "doLLdec41Gzc",
        "colab_type": "text"
      },
      "cell_type": "markdown",
      "source": [
        "**Year wise message count stat:**"
      ]
    },
    {
      "metadata": {
        "id": "RG_sGueXrwJz",
        "colab_type": "code",
        "colab": {
          "autoexec": {
            "startup": false,
            "wait_interval": 0
          }
        }
      },
      "cell_type": "code",
      "source": [
        "def getYearwiseMessageCountStat(dirname):\n",
        "  yearinfodict = {}\n",
        "  num_files = getFileCount(dirname)\n",
        "  for i in range(num_files):\n",
        "    soup = BeautifulSoup(open(dirname+str(i)+'.html','r'), 'html.parser')\n",
        "    dayinfo = []\n",
        "    for items in soup.find_all('span','meta'):\n",
        "      timetext = str(items.text[-25:-20]).strip()\n",
        "      if timetext not in yearinfodict:\n",
        "        yearinfodict[timetext] = 1\n",
        "      else:\n",
        "        yearinfodict[timetext] += 1 \n",
        "    if i%50 == 0:\n",
        "      print \"Progress: \"+ str(i) + \" contacts processed.\"\n",
        "  return yearinfodict"
      ],
      "execution_count": 0,
      "outputs": []
    },
    {
      "metadata": {
        "id": "zeyWFEnIzUqt",
        "colab_type": "code",
        "colab": {
          "autoexec": {
            "startup": false,
            "wait_interval": 0
          }
        }
      },
      "cell_type": "code",
      "source": [
        "def MessagebyYearGraphHelper(dirname,printstat):\n",
        "  yeardict = getYearwiseMessageCountStat(dirname)\n",
        "  yearlist = sorted(yeardict.items(), key=lambda x: x[1],reverse=True)\n",
        "  years = []\n",
        "  msgcount = []\n",
        "  for items in yearlist:\n",
        "    years.append(items[0])\n",
        "    msgcount.append(items[1])\n",
        "  if printstat:\n",
        "    print yearlist\n",
        "  return years, msgcount"
      ],
      "execution_count": 0,
      "outputs": []
    },
    {
      "metadata": {
        "id": "0a5mFVnYz2lv",
        "colab_type": "code",
        "colab": {
          "autoexec": {
            "startup": false,
            "wait_interval": 0
          }
        }
      },
      "cell_type": "code",
      "source": [
        "def getMessagebyYearGraph(dirname,printstat = False):\n",
        "  x,y = MessagebyYearGraphHelper(dirname,printstat)\n",
        "  n = len(x)\n",
        "  sns.set_context(rc={\"figure.figsize\": (14, 5)})\n",
        "  nd = np.arange(n)\n",
        "  width=0.2\n",
        "  plt.xticks(nd+width/2., x,rotation = 90)\n",
        "  plt.xlim(-0.15,7)\n",
        "  plt.xlabel(\"Years\")\n",
        "  plt.ylabel(\"# of messages exchanged\")\n",
        "  fig = plt.bar(nd, y, color=sns.color_palette(\"Oranges\",n))\n",
        "  plt.show()"
      ],
      "execution_count": 0,
      "outputs": []
    },
    {
      "metadata": {
        "id": "zg-XDL9-0X6G",
        "colab_type": "code",
        "colab": {
          "autoexec": {
            "startup": false,
            "wait_interval": 0
          },
          "output_extras": [
            {
              "item_id": 9
            },
            {
              "item_id": 10
            }
          ],
          "base_uri": "https://localhost:8080/",
          "height": 509
        },
        "outputId": "d6c9c9ef-cc69-429d-e353-efdb8f43a354",
        "executionInfo": {
          "status": "ok",
          "timestamp": 1522211015296,
          "user_tz": -330,
          "elapsed": 53223,
          "user": {
            "displayName": "SHAMIK KUNDU",
            "photoUrl": "https://lh3.googleusercontent.com/a/default-user=s128",
            "userId": "103652972737434762725"
          }
        }
      },
      "cell_type": "code",
      "source": [
        "getMessagebyYearGraph('drive/COLAB/Facebook/Message/', True)"
      ],
      "execution_count": 102,
      "outputs": [
        {
          "output_type": "stream",
          "text": [
            "Progress: 0 contacts processed.\n",
            "Progress: 50 contacts processed.\n",
            "Progress: 100 contacts processed.\n",
            "Progress: 150 contacts processed.\n",
            "Progress: 200 contacts processed.\n",
            "Progress: 250 contacts processed.\n",
            "Progress: 300 contacts processed.\n",
            "Progress: 350 contacts processed.\n",
            "[('2016', 63749), ('2013', 39603), ('2015', 30265), ('2014', 22733), ('2017', 16978), ('2018', 4461)]\n"
          ],
          "name": "stdout"
        },
        {
          "output_type": "display_data",
          "data": {
            "image/png": "[encoded data removed]",
            "text/plain": [
              "<matplotlib.figure.Figure at 0x7f3bd9cd4c10>"
            ]
          },
          "metadata": {
            "tags": []
          }
        }
      ]
    },
    {
      "metadata": {
        "id": "dBEhfMglio1t",
        "colab_type": "text"
      },
      "cell_type": "markdown",
      "source": [
        "**Time of day wise message count stat:**"
      ]
    },
    {
      "metadata": {
        "id": "N8letl7GNQRK",
        "colab_type": "code",
        "colab": {
          "autoexec": {
            "startup": false,
            "wait_interval": 0
          }
        }
      },
      "cell_type": "code",
      "source": [
        "def getTimewiseMessageCountStat(dirname):\n",
        "  num_files = getFileCount(dirname)\n",
        "  timebucket = {i:0 for i in range(24)}\n",
        "  datetimeinfo = []\n",
        "  for i in range(num_files):\n",
        "    soup = BeautifulSoup(open(dirname+str(i)+'.html','r'), 'html.parser')\n",
        "    for item in soup.find_all('span','meta'):\n",
        "      txt = str(item.text)\n",
        "      txt = txt[-17:-10]\n",
        "      datetimeinfo.append(txt.strip())\n",
        "      \n",
        "  for time in datetimeinfo:\n",
        "    ampm = time[-2:]\n",
        "    if ampm == 'am':\n",
        "      if time[1] == ':':\n",
        "        tm = int(time[0])\n",
        "        if tm not in timebucket:\n",
        "          timebucket[tm] = 1\n",
        "        else:\n",
        "          timebucket[tm] += 1\n",
        "      else:\n",
        "        tm = int(time[:2])\n",
        "        if tm == 12:\n",
        "          if 0 not in timebucket:\n",
        "            timebucket[0] = 1\n",
        "          else:\n",
        "            timebucket[0] += 1\n",
        "        else:\n",
        "          if tm not in timebucket:\n",
        "            timebucket[tm] = 1\n",
        "          else:\n",
        "            timebucket[tm] += 1\n",
        "    else:\n",
        "      if time[1] == ':':\n",
        "        tm = int(time[0]) + 12\n",
        "        if tm not in timebucket:\n",
        "          timebucket[tm] = 1\n",
        "        else:\n",
        "          timebucket[tm] += 1\n",
        "      else:\n",
        "        tm = int(time[:2])\n",
        "        if tm == 12:\n",
        "          if tm not in timebucket:\n",
        "            timebucket[tm] = 1\n",
        "          else:\n",
        "            timebucket[tm] += 1\n",
        "        else:\n",
        "          tm = tm + 12\n",
        "          if tm not in timebucket:\n",
        "            timebucket[tm] = 1\n",
        "          else:\n",
        "            timebucket[tm] += 1\n",
        "  return timebucket"
      ],
      "execution_count": 0,
      "outputs": []
    },
    {
      "metadata": {
        "id": "fFklXvRwZ8Qb",
        "colab_type": "code",
        "colab": {
          "autoexec": {
            "startup": false,
            "wait_interval": 0
          }
        }
      },
      "cell_type": "code",
      "source": [
        "def MessagebyTimeGraphHelper(dirname,printstat):\n",
        "  timebucket = getTimewiseMessageCountStat(dirname)\n",
        "  x = []\n",
        "  y = []\n",
        "  for k,v in timebucket.iteritems():\n",
        "    y.append(v)\n",
        "    if k == 0:\n",
        "      x.append(\"12am - 1am\")\n",
        "    elif k> 0 and k<11:\n",
        "      x.append(str(k)+\"am - \"+str(k+1)+\"am\")\n",
        "    elif k == 11:\n",
        "      x.append(\"11am - 12pm\")\n",
        "    elif k == 12:\n",
        "      x.append(\"12pm - 1pm\")\n",
        "    elif k == 23:\n",
        "      x.append(\"11pm - 12am\")\n",
        "    else:\n",
        "      x.append(str(k-12)+\"pm - \"+str(k-11)+\"pm\")\n",
        "  if printstat:\n",
        "    for i in range(len(x)):\n",
        "      print  x[i]+ \"   ->   \" + str(y[i])\n",
        "  return x,y"
      ],
      "execution_count": 0,
      "outputs": []
    },
    {
      "metadata": {
        "id": "nt8-uKL_dQ-0",
        "colab_type": "code",
        "colab": {
          "autoexec": {
            "startup": false,
            "wait_interval": 0
          }
        }
      },
      "cell_type": "code",
      "source": [
        "def getMessagebyTimeGraph(dirname,printstat = False):\n",
        "  x,y = MessagebyTimeGraphHelper(dirname,printstat)\n",
        "  n = len(x)\n",
        "  sns.set_context(rc={\"figure.figsize\": (18, 5)})\n",
        "  nd = np.arange(n)\n",
        "  width=0.2\n",
        "  plt.xticks(nd+width/2., x,rotation = 90)\n",
        "  plt.xlim(-0.15,n)\n",
        "  plt.xlabel(\"Time of the day\")\n",
        "  plt.ylabel(\"# of messages exchanged\")\n",
        "  fig = plt.bar(nd, y, color=sns.color_palette(\"Greens\",n))\n",
        "  plt.show()"
      ],
      "execution_count": 0,
      "outputs": []
    },
    {
      "metadata": {
        "id": "pFYfTcoFekGT",
        "colab_type": "code",
        "colab": {
          "autoexec": {
            "startup": false,
            "wait_interval": 0
          },
          "output_extras": [
            {
              "item_id": 1
            },
            {
              "item_id": 2
            }
          ],
          "base_uri": "https://localhost:8080/",
          "height": 816
        },
        "outputId": "1723315f-9804-41ef-d11d-664a5faa27d4",
        "executionInfo": {
          "status": "ok",
          "timestamp": 1522222678328,
          "user_tz": -330,
          "elapsed": 54621,
          "user": {
            "displayName": "SHAMIK KUNDU",
            "photoUrl": "https://lh3.googleusercontent.com/a/default-user=s128",
            "userId": "103652972737434762725"
          }
        }
      },
      "cell_type": "code",
      "source": [
        "getMessagebyTimeGraph('drive/COLAB/Facebook/Message/',True)"
      ],
      "execution_count": 187,
      "outputs": [
        {
          "output_type": "stream",
          "text": [
            "12am - 1am   ->   16281\n",
            "1am - 2am   ->   3725\n",
            "2am - 3am   ->   647\n",
            "3am - 4am   ->   178\n",
            "4am - 5am   ->   42\n",
            "5am - 6am   ->   227\n",
            "6am - 7am   ->   868\n",
            "7am - 8am   ->   1480\n",
            "8am - 9am   ->   2415\n",
            "9am - 10am   ->   3616\n",
            "10am - 11am   ->   5332\n",
            "11am - 12pm   ->   5543\n",
            "12pm - 1pm   ->   4094\n",
            "1pm - 2pm   ->   3677\n",
            "2pm - 3pm   ->   4365\n",
            "3pm - 4pm   ->   5688\n",
            "4pm - 5pm   ->   5431\n",
            "5pm - 6pm   ->   7049\n",
            "6pm - 7pm   ->   9323\n",
            "7pm - 8pm   ->   18114\n",
            "8pm - 9pm   ->   21487\n",
            "9pm - 10pm   ->   15480\n",
            "10pm - 11pm   ->   17765\n",
            "11pm - 12am   ->   24962\n"
          ],
          "name": "stdout"
        },
        {
          "output_type": "display_data",
          "data": {
            "image/png": "[encoded data removed]",
            "text/plain": [
              "<matplotlib.figure.Figure at 0x7f3bd8a83f50>"
            ]
          },
          "metadata": {
            "tags": []
          }
        }
      ]
    }
  ]
}