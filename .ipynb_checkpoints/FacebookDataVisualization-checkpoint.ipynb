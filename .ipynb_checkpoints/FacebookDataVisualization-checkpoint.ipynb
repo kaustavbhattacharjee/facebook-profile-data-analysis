{
 "cells": [
  {
   "cell_type": "code",
   "execution_count": 1,
   "metadata": {
    "colab": {
     "autoexec": {
      "startup": false,
      "wait_interval": 0
     },
     "base_uri": "https://localhost:8080/",
     "height": 109,
     "output_extras": [
      {
       "item_id": 4
      }
     ]
    },
    "colab_type": "code",
    "executionInfo": {
     "elapsed": 19500,
     "status": "ok",
     "timestamp": 1522156303659,
     "user": {
      "displayName": "SHAMIK KUNDU",
      "photoUrl": "https://lh3.googleusercontent.com/a/default-user=s128",
      "userId": "103652972737434762725"
     },
     "user_tz": -330
    },
    "id": "DemScTyUlEFg",
    "outputId": "4782da5d-d078-4fd4-838e-28b2c7c14460"
   },
   "outputs": [
    {
     "name": "stdout",
     "output_type": "stream",
     "text": [
      "Please, open the following URL in a web browser: https://accounts.google.com/o/oauth2/auth?client_id=32555940559.apps.googleusercontent.com&redirect_uri=urn%3Aietf%3Awg%3Aoauth%3A2.0%3Aoob&scope=https%3A%2F%2Fwww.googleapis.com%2Fauth%2Fdrive&response_type=code&access_type=offline&approval_prompt=force\r\n",
      "··········\n",
      "Please, open the following URL in a web browser: https://accounts.google.com/o/oauth2/auth?client_id=32555940559.apps.googleusercontent.com&redirect_uri=urn%3Aietf%3Awg%3Aoauth%3A2.0%3Aoob&scope=https%3A%2F%2Fwww.googleapis.com%2Fauth%2Fdrive&response_type=code&access_type=offline&approval_prompt=force\n",
      "Please enter the verification code: Access token retrieved correctly.\n"
     ]
    }
   ],
   "source": [
    "!apt-get install -y -qq software-properties-common python-software-properties module-init-tools\n",
    "!add-apt-repository -y ppa:alessandro-strada/ppa 2>&1 > /dev/null\n",
    "!apt-get update -qq 2>&1 > /dev/null\n",
    "!apt-get -y install -qq google-drive-ocamlfuse fuse\n",
    "from google.colab import auth\n",
    "auth.authenticate_user()\n",
    "from oauth2client.client import GoogleCredentials\n",
    "creds = GoogleCredentials.get_application_default()\n",
    "import getpass\n",
    "!google-drive-ocamlfuse -headless -id={creds.client_id} -secret={creds.client_secret} < /dev/null 2>&1 | grep URL\n",
    "vcode = getpass.getpass()\n",
    "!echo {vcode} | google-drive-ocamlfuse -headless -id={creds.client_id} -secret={creds.client_secret}"
   ]
  },
  {
   "cell_type": "code",
   "execution_count": 0,
   "metadata": {
    "colab": {
     "autoexec": {
      "startup": false,
      "wait_interval": 0
     }
    },
    "colab_type": "code",
    "collapsed": true,
    "id": "Q4KQimvNlJYS"
   },
   "outputs": [],
   "source": [
    "!mkdir -p drive\n",
    "!google-drive-ocamlfuse drive -o nonempty"
   ]
  },
  {
   "cell_type": "markdown",
   "metadata": {
    "colab_type": "text",
    "id": "oZhfrwzN3hBa"
   },
   "source": [
    "# **Features:**\n",
    "\n",
    "\n",
    "*   Get overall stat of message count wrt contacts: **getOverallMessageStat()**\n",
    "*   Get a bar plot of 'contacts vs #messages': **getMsgCountGraph()**\n",
    "\n"
   ]
  },
  {
   "cell_type": "code",
   "execution_count": 0,
   "metadata": {
    "colab": {
     "autoexec": {
      "startup": false,
      "wait_interval": 0
     }
    },
    "colab_type": "code",
    "collapsed": true,
    "id": "tacyUSsZlkZt"
   },
   "outputs": [],
   "source": [
    "from bs4 import BeautifulSoup\n",
    "import os\n",
    "import matplotlib.pyplot as plt\n",
    "import numpy as np\n",
    "import seaborn as sns"
   ]
  },
  {
   "cell_type": "code",
   "execution_count": 1,
   "metadata": {
    "collapsed": true
   },
   "outputs": [],
   "source": [
    "import pandas"
   ]
  },
  {
   "cell_type": "markdown",
   "metadata": {
    "colab_type": "text",
    "id": "7DVaMdy7pNdN"
   },
   "source": [
    "**Get total number of html files to parse:**"
   ]
  },
  {
   "cell_type": "code",
   "execution_count": 0,
   "metadata": {
    "colab": {
     "autoexec": {
      "startup": false,
      "wait_interval": 0
     }
    },
    "colab_type": "code",
    "collapsed": true,
    "id": "N2XMi7XhotS4"
   },
   "outputs": [],
   "source": [
    "def getFileCount(dirname):\n",
    "  path, dirs, files = os.walk(dirname).next()\n",
    "  file_count = len(files)\n",
    "  return file_count"
   ]
  },
  {
   "cell_type": "markdown",
   "metadata": {
    "colab_type": "text",
    "id": "HPQnF9l-oldn"
   },
   "source": [
    "**Name of Contact and number of messages exchanged:**"
   ]
  },
  {
   "cell_type": "code",
   "execution_count": 0,
   "metadata": {
    "colab": {
     "autoexec": {
      "startup": false,
      "wait_interval": 0
     }
    },
    "colab_type": "code",
    "collapsed": true,
    "id": "lDVWAfUZpaLt"
   },
   "outputs": [],
   "source": [
    "def getOverallMessageStat(dirname,time_step=50):\n",
    "  num_files = getFileCount(dirname)\n",
    "  msg_dct = {}\n",
    "  for i in range(num_files):\n",
    "    soup = BeautifulSoup(open(dirname+str(i)+'.html','r'), 'html.parser')\n",
    "    ls = soup.find_all('p')\n",
    "    num_msgs = len(ls)\n",
    "    num_contact = soup.find('title').text[18:]\n",
    "    msg_dct[num_contact] = num_msgs\n",
    "    if i%time_step == 0:\n",
    "      print \"Progress:\" + str(i) + \" contacts processed\"\n",
    "  dct = sorted(msg_dct.items(), key=lambda x: x[1],reverse=True)\n",
    "  return dct\n",
    "\n",
    "  "
   ]
  },
  {
   "cell_type": "code",
   "execution_count": 4,
   "metadata": {
    "colab": {
     "autoexec": {
      "startup": false,
      "wait_interval": 0
     },
     "base_uri": "https://localhost:8080/",
     "height": 161,
     "output_extras": [
      {
       "item_id": 8
      }
     ]
    },
    "colab_type": "code",
    "executionInfo": {
     "elapsed": 47304,
     "status": "ok",
     "timestamp": 1522161344231,
     "user": {
      "displayName": "SHAMIK KUNDU",
      "photoUrl": "https://lh3.googleusercontent.com/a/default-user=s128",
      "userId": "103652972737434762725"
     },
     "user_tz": -330
    },
    "id": "VnYfvKZFuR9W",
    "outputId": "3b079542-7bf9-42ad-87fb-392c94d66800"
   },
   "outputs": [
    {
     "name": "stdout",
     "output_type": "stream",
     "text": [
      "Progress:0 contacts processed\n",
      "Progress:50 contacts processed\n",
      "Progress:100 contacts processed\n",
      "Progress:150 contacts processed\n",
      "Progress:200 contacts processed\n",
      "Progress:250 contacts processed\n",
      "Progress:300 contacts processed\n",
      "Progress:350 contacts processed\n"
     ]
    }
   ],
   "source": [
    "msgstatList = getOverallMessageStat('drive/COLAB/Facebook/Message/')"
   ]
  },
  {
   "cell_type": "code",
   "execution_count": 0,
   "metadata": {
    "colab": {
     "autoexec": {
      "startup": false,
      "wait_interval": 0
     }
    },
    "colab_type": "code",
    "collapsed": true,
    "id": "av1W1Whqsf2-"
   },
   "outputs": [],
   "source": [
    "def msgcountGraphHelper(msgstat,defaultcount = 10):\n",
    "  nameList = []\n",
    "  msgnumList = []\n",
    "  count = 0\n",
    "  for k in msgstat:\n",
    "    if count <defaultcount:\n",
    "      nameList.append(k[0])\n",
    "      msgnumList.append(k[1])\n",
    "    else:\n",
    "      break\n",
    "    count = count + 1\n",
    "  return nameList, msgnumList"
   ]
  },
  {
   "cell_type": "code",
   "execution_count": 0,
   "metadata": {
    "colab": {
     "autoexec": {
      "startup": false,
      "wait_interval": 0
     }
    },
    "colab_type": "code",
    "collapsed": true,
    "id": "YKMgRxOrx9T5"
   },
   "outputs": [],
   "source": [
    "x, y = msgcountGraphHelper(msgstatList,15)"
   ]
  },
  {
   "cell_type": "markdown",
   "metadata": {
    "colab_type": "text",
    "id": "WbB7pEy82teN"
   },
   "source": [
    "**Show bar plot of Contacts vs #Messages:**"
   ]
  },
  {
   "cell_type": "code",
   "execution_count": 0,
   "metadata": {
    "colab": {
     "autoexec": {
      "startup": false,
      "wait_interval": 0
     }
    },
    "colab_type": "code",
    "collapsed": true,
    "id": "FypUC-Fdqv3B"
   },
   "outputs": [],
   "source": [
    "def getMsgCountGraph(msgstatList,msgscount=10):\n",
    "  x,y = msgcountGraphHelper(msgstatList,msgscount)\n",
    "  n = len(x)\n",
    "  sns.set_context(rc={\"figure.figsize\": (18, 5)})\n",
    "  nd = np.arange(n)\n",
    "  width=0.2\n",
    "  #plt.xticks(nd+width/2., ('1','1000','1001'))\n",
    "  plt.xticks(nd+width/2., x,rotation = 90)\n",
    "  plt.xlim(-0.15,n)\n",
    "  plt.xlabel(\"Contact Name\")\n",
    "  plt.ylabel(\"# of Messages\")\n",
    "  fig = plt.bar(nd, y, color=sns.color_palette(\"Greens\",n))\n",
    "  #plt.legend(fig, ['First','Second','Third'], loc = \"upper left\", title = \"cat\")\n",
    "  plt.show()"
   ]
  },
  {
   "cell_type": "code",
   "execution_count": 16,
   "metadata": {
    "colab": {
     "autoexec": {
      "startup": false,
      "wait_interval": 0
     },
     "base_uri": "https://localhost:8080/",
     "height": 504,
     "output_extras": [
      {
       "item_id": 1
      }
     ]
    },
    "colab_type": "code",
    "executionInfo": {
     "elapsed": 1367,
     "status": "ok",
     "timestamp": 1522161522866,
     "user": {
      "displayName": "SHAMIK KUNDU",
      "photoUrl": "https://lh3.googleusercontent.com/a/default-user=s128",
      "userId": "103652972737434762725"
     },
     "user_tz": -330
    },
    "id": "tjL8U26J1Lfu",
    "outputId": "7f88c088-cf21-4653-9c0f-5269caf59cab"
   },
   "outputs": [
    {
     "data": {
      "image/png": "[encoded data removed]",
      "text/plain": [
       "<matplotlib.figure.Figure at 0x7fe0c5271c10>"
      ]
     },
     "metadata": {
      "tags": []
     },
     "output_type": "display_data"
    }
   ],
   "source": [
    "getMsgCountGraph(msgstatList, 15)"
   ]
  },
  {
   "cell_type": "code",
   "execution_count": 15,
   "metadata": {
    "colab": {
     "autoexec": {
      "startup": false,
      "wait_interval": 0
     },
     "base_uri": "https://localhost:8080/",
     "height": 287,
     "output_extras": [
      {
       "item_id": 1
      }
     ]
    },
    "colab_type": "code",
    "executionInfo": {
     "elapsed": 567,
     "status": "ok",
     "timestamp": 1522161503448,
     "user": {
      "displayName": "SHAMIK KUNDU",
      "photoUrl": "https://lh3.googleusercontent.com/a/default-user=s128",
      "userId": "103652972737434762725"
     },
     "user_tz": -330
    },
    "id": "slp07OPrvQpz",
    "outputId": "a066d1e0-c745-4291-bc84-2de7d3e3776b"
   },
   "outputs": [
    {
     "data": {
      "text/plain": [
       "[(u'Shailesh Kumar', 29615),\n",
       " (u'Poulomi Aich', 23807),\n",
       " (u'Sayan Bose', 20853),\n",
       " (u'Puspita Roy', 10267),\n",
       " (u'Shaunak Chakraborty', 8703),\n",
       " (u'Kaustav and Sayan', 8690),\n",
       " (u'Bhaskar Ghosh', 7852),\n",
       " (u'Anindya Mukherjee', 6867),\n",
       " (u'Roshni Dasgupta', 6400),\n",
       " (u'Ananya Banerjee', 5098),\n",
       " (u'Shreya Pramanik', 3661),\n",
       " (u'Tirthanu, Keshav, Abhirup and 67 others', 3097),\n",
       " (u'Avik Panji', 2654),\n",
       " (u'Sankhadip Kumar', 2528),\n",
       " (u'Aniket Sanyal', 2429)]"
      ]
     },
     "execution_count": 15,
     "metadata": {
      "tags": []
     },
     "output_type": "execute_result"
    }
   ],
   "source": [
    "msgstatList[:15]"
   ]
  }
 ],
 "metadata": {
  "colab": {
   "default_view": {},
   "name": "FacebookDataVisualization.ipynb",
   "provenance": [],
   "version": "0.3.2",
   "views": {}
  },
  "kernelspec": {
   "display_name": "Python 2",
   "language": "python",
   "name": "python2"
  },
  "language_info": {
   "codemirror_mode": {
    "name": "ipython",
    "version": 2
   },
   "file_extension": ".py",
   "mimetype": "text/x-python",
   "name": "python",
   "nbconvert_exporter": "python",
   "pygments_lexer": "ipython2",
   "version": "2.7.12"
  }
 },
 "nbformat": 4,
 "nbformat_minor": 1
}
